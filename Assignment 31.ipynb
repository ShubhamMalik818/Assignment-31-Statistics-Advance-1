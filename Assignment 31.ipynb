{
 "cells": [
  {
   "cell_type": "code",
   "execution_count": null,
   "id": "358713d9-aafb-4d6e-ad04-a419698bc2f8",
   "metadata": {},
   "outputs": [],
   "source": [
    "1. What is the Probability density function?"
   ]
  },
  {
   "cell_type": "code",
   "execution_count": null,
   "id": "97674003-a215-46c2-8e11-d1e227196400",
   "metadata": {},
   "outputs": [],
   "source": [
    "ANS- A probability density function (PDF) is a mathematical function that describes the probability distribution of a random variable in a \n",
    "     continuous probability distribution. It is a function that maps the possible outcomes of a random variable to their probabilities.\n",
    "\n",
    "The PDF represents the relative likelihood of different values of the random variable occurring. The integral of the PDF over a certain range \n",
    "of values gives the probability that the random variable will fall within that range.\n",
    "\n",
    "The PDF is often denoted by the symbol f(x), where x is the random variable. The function must satisfy certain properties, \n",
    "such as being non-negative and integrating to 1 over the entire range of possible values.\n",
    "\n",
    "Examples of probability density functions include the normal distribution, the uniform distribution, and the exponential distribution. \n",
    "\n",
    "These functions are used in many areas of science and engineering, including statistics, physics, and finance, to model the behavior of \n",
    "random variables."
   ]
  },
  {
   "cell_type": "code",
   "execution_count": null,
   "id": "0e376c93-cd79-4b6d-8728-2b83e6d7599f",
   "metadata": {},
   "outputs": [],
   "source": [
    "2. What are the types of Probability distribution?"
   ]
  },
  {
   "cell_type": "code",
   "execution_count": null,
   "id": "cdc95693-bcb1-40ad-8106-bd42ea55c695",
   "metadata": {},
   "outputs": [],
   "source": [
    "ANS- There are two main types of probability distributions: \n",
    "\n",
    "    1. Discrete probability distribution: In a discrete probability distribution, the random variable can only take on a countable set of values, \n",
    "                                          such as integers. \n",
    "        Examples of discrete probability distributions include the binomial distribution, Poisson distribution, and geometric distribution.\n",
    "\n",
    "    2. Continuous probability distribution: In a continuous probability distribution, the random variable can take on any value within a certain range. \n",
    "        Examples of continuous probability distributions include the normal distribution, uniform distribution, and exponential distribution.\n",
    "\n",
    "In addition to these two main types, there are also mixed probability distributions, which combine both discrete and continuous elements. \n",
    "An example of a mixed probability distribution is the mixed Poisson distribution.\n",
    "\n",
    "Each probability distribution has its own set of characteristics, such as its mean, variance, and shape. \n",
    "Understanding these characteristics is important in many fields, including statistics, physics, engineering, and finance, where probability \n",
    "distributions are used to model and analyze real-world phenomena."
   ]
  },
  {
   "cell_type": "code",
   "execution_count": null,
   "id": "70fb81c9-c60e-4860-97b2-3f45ec896861",
   "metadata": {},
   "outputs": [],
   "source": [
    "3. Write a Python function to calculate the probability density function of a normal distribution with given mean and standard deviation \n",
    "   at a given point."
   ]
  },
  {
   "cell_type": "code",
   "execution_count": 1,
   "id": "a28652a1-70bc-4c45-8d86-2bd451ee9881",
   "metadata": {},
   "outputs": [],
   "source": [
    "import scipy.stats as stats\n",
    "\n",
    "def normal_pdf(x, mean, std_dev):\n",
    "    \"\"\"\n",
    "    Calculates the probability density function (PDF) of a normal distribution with a given mean and standard deviation\n",
    "    at a given point x.\n",
    "    \n",
    "    Parameters:\n",
    "        x (float): The point at which to calculate the PDF.\n",
    "        mean (float): The mean of the normal distribution.\n",
    "        std_dev (float): The standard deviation of the normal distribution.\n",
    "    \n",
    "    Returns:\n",
    "        float: The PDF of the normal distribution at the given point x.\n",
    "    \"\"\"\n",
    "    pdf = stats.norm.pdf(x, mean, std_dev)\n",
    "    return pdf"
   ]
  },
  {
   "cell_type": "code",
   "execution_count": 2,
   "id": "31c72bdc-0f4f-4917-990b-b7367d5fc022",
   "metadata": {},
   "outputs": [
    {
     "name": "stdout",
     "output_type": "stream",
     "text": [
      "The PDF of a normal distribution with mean 0 and standard deviation 1 at x=1.5 is 0.1295\n"
     ]
    }
   ],
   "source": [
    "mean = 0\n",
    "std_dev = 1\n",
    "x = 1.5\n",
    "\n",
    "pdf = normal_pdf(x, mean, std_dev)\n",
    "print(f\"The PDF of a normal distribution with mean {mean} and standard deviation {std_dev} at x={x} is {pdf:.4f}\")\n",
    "\n",
    "'''Note that we are using the norm.pdf() function from the scipy.stats module to calculate the PDF. \n",
    "This function takes three arguments: the point at which to evaluate the PDF, the mean of the distribution, and the standard deviation of the \n",
    "distribution.'''"
   ]
  },
  {
   "cell_type": "code",
   "execution_count": null,
   "id": "6a175a12-98e0-48ba-a64e-582dfe536e81",
   "metadata": {},
   "outputs": [],
   "source": [
    "4. What are the properties of Binomial distribution? Give two examples of events where binomial distribution can be applied."
   ]
  },
  {
   "cell_type": "code",
   "execution_count": null,
   "id": "01ea213f-94f7-4d93-b6e5-d6b0219c9c7f",
   "metadata": {},
   "outputs": [],
   "source": [
    "ANS- The binomial distribution has the following properties:\n",
    "\n",
    "    1. The experiment consists of a fixed number of trials, denoted by n.\n",
    "    2. Each trial is independent of the others.\n",
    "    3. There are only two possible outcomes for each trial, which are typically denoted as \"success\" and \"failure\".\n",
    "    4. The probability of success is constant for each trial, denoted by p.\n",
    "    5. The random variable of interest is the number of successes in n trials, denoted by X.\n",
    "    \n",
    "Two examples of events where binomial distribution can be applied are:\n",
    "\n",
    "    1. Tossing a coin: Suppose we toss a fair coin 10 times and we want to know the probability of getting exactly 5 heads. \n",
    "       Here, the experiment consists of 10 trials, each trial is independent of the others, there are only two possible outcomes (heads or tails) \n",
    "        for each trial, the probability of success (getting a head) is 0.5 for each trial, and the random variable of interest is the number of heads \n",
    "        in 10 tosses.\n",
    "\n",
    "    2. Quality control: A manufacturer wants to ensure that no more than 5% of their products are defective. \n",
    "       They randomly select 50 products for inspection and want to know the probability that 3 or fewer of them are defective. \n",
    "        Here, the experiment consists of 50 trials (one for each product), each trial is independent of the others, there are two possible outcomes \n",
    "        (defective or not defective) for each trial, the probability of success (not defective) is 0.95 for each trial, and the random variable of \n",
    "        interest is the number of non-defective products in the sample of 50."
   ]
  },
  {
   "cell_type": "code",
   "execution_count": null,
   "id": "61c8df62-9baf-418e-a79b-49ae8ddf6c23",
   "metadata": {},
   "outputs": [],
   "source": [
    "5. Generate a random sample of size 1000 from a binomial distribution with probability of success 0.4 and plot a histogram of the results \n",
    "   using matplotlib."
   ]
  },
  {
   "cell_type": "code",
   "execution_count": 3,
   "id": "23e455f5-3002-49ac-8d06-9a9c4ee4715c",
   "metadata": {},
   "outputs": [
    {
     "data": {
      "image/png": "[encoded data removed]",
      "text/plain": [
       "<Figure size 640x480 with 1 Axes>"
      ]
     },
     "metadata": {},
     "output_type": "display_data"
    }
   ],
   "source": [
    "import numpy as np\n",
    "import matplotlib.pyplot as plt\n",
    "\n",
    "# Generate random sample of size 1000 from a binomial distribution with p = 0.4\n",
    "n = 10   # Number of trials\n",
    "p = 0.4  # Probability of success\n",
    "sample_size = 1000\n",
    "sample = np.random.binomial(n, p, sample_size)\n",
    "\n",
    "# Plot a histogram of the sample\n",
    "plt.hist(sample, bins=range(n+1))\n",
    "plt.xlabel(\"Number of successes\")\n",
    "plt.ylabel(\"Frequency\")\n",
    "plt.title(f\"Histogram of {sample_size} samples from a binomial distribution with p={p}\")\n",
    "plt.show()"
   ]
  },
  {
   "cell_type": "code",
   "execution_count": null,
   "id": "e7a60629-c45a-45ec-adac-c0cf0dada753",
   "metadata": {},
   "outputs": [],
   "source": [
    "This code uses the numpy.random.binomial() function to generate a random sample of size 1000 from a binomial distribution with parameters \n",
    "n=10 and p=0.4. It then plots a histogram of the sample using Matplotlib's hist() function. \n",
    "The bins argument specifies the bin edges for the histogram, which are set to 0, 1, 2, ..., 10 in this case. \n",
    "The resulting histogram shows the frequency of each possible number of successes in the 1000 trials."
   ]
  },
  {
   "cell_type": "code",
   "execution_count": null,
   "id": "990a6dea-5a21-43ce-953b-079df00d1ccb",
   "metadata": {},
   "outputs": [],
   "source": [
    "6. Write a Python function to calculate the cumulative distribution function of a Poisson distribution with given mean at a given point."
   ]
  },
  {
   "cell_type": "code",
   "execution_count": 4,
   "id": "9b1b7460-bfc3-46e3-8970-5ce6a41d2430",
   "metadata": {},
   "outputs": [],
   "source": [
    "import scipy.stats as stats\n",
    "\n",
    "def poisson_cdf(x, mean):\n",
    "    \"\"\"\n",
    "    Calculates the cumulative distribution function (CDF) of a Poisson distribution with a given mean\n",
    "    at a given point x.\n",
    "    \n",
    "    Parameters:\n",
    "        x (int): The point at which to calculate the CDF.\n",
    "        mean (float): The mean of the Poisson distribution.\n",
    "    \n",
    "    Returns:\n",
    "        float: The CDF of the Poisson distribution at the given point x.\n",
    "    \"\"\"\n",
    "    cdf = stats.poisson.cdf(x, mean)\n",
    "    return cdf"
   ]
  },
  {
   "cell_type": "code",
   "execution_count": 5,
   "id": "3845799b-1591-4293-a951-4dd2aaa1fe7d",
   "metadata": {},
   "outputs": [
    {
     "name": "stdout",
     "output_type": "stream",
     "text": [
      "The CDF of a Poisson distribution with mean 3 at x=4 is 0.8153\n"
     ]
    }
   ],
   "source": [
    "mean = 3\n",
    "x = 4\n",
    "\n",
    "cdf = poisson_cdf(x, mean)\n",
    "print(f\"The CDF of a Poisson distribution with mean {mean} at x={x} is {cdf:.4f}\")"
   ]
  },
  {
   "cell_type": "code",
   "execution_count": null,
   "id": "ea35eca2-a2f1-4ad7-aba5-5a7b66c856b5",
   "metadata": {},
   "outputs": [],
   "source": [
    "7. How Binomial distribution different from Poisson distribution?"
   ]
  },
  {
   "cell_type": "code",
   "execution_count": null,
   "id": "b3b27a33-656d-40a3-9d79-815792e9575d",
   "metadata": {},
   "outputs": [],
   "source": [
    "ANS- Binomial and Poisson distributions are both discrete probability distributions, but they differ in several ways:\n",
    "\n",
    "    1. Number of trials: The binomial distribution is used to model the number of successes in a fixed number of independent trials, \n",
    "                         while the Poisson distribution is used to model the number of events occurring in a fixed interval of time or space.\n",
    "\n",
    "    2. Probability of success: In the binomial distribution, the probability of success is fixed and constant for each trial. \n",
    "                               In the Poisson distribution, the probability of an event occurring in a fixed interval is assumed to be proportional \n",
    "                               to the length of the interval.\n",
    "\n",
    "    3. Parameters: The binomial distribution has two parameters: the number of trials (n) and the probability of success (p). \n",
    "                   The Poisson distribution has one parameter: the rate parameter (λ), which is equal to the expected number of events in the \n",
    "                   given interval.\n",
    "\n",
    "    4. Mean and variance: For a binomial distribution with parameters n and p, the mean is np and the variance is np(1-p). \n",
    "                          For a Poisson distribution with parameter λ, the mean and variance are both λ.\n",
    "\n",
    "    5. Assumptions: The binomial distribution assumes that the trials are independent and that the probability of success is constant for each trial. \n",
    "                    The Poisson distribution assumes that the events occur independently of each other and that the rate parameter is constant across \n",
    "                    the interval.\n",
    "            \n",
    "Examples where binomial distribution can be applied are coin tosses, quality control, etc. \n",
    "Examples where Poisson distribution can be applied are number of car accidents in a day, number of phone calls to a call center in an hour, etc."
   ]
  },
  {
   "cell_type": "code",
   "execution_count": null,
   "id": "cc3b60f5-2ee5-475b-a24a-09d280947a24",
   "metadata": {},
   "outputs": [],
   "source": [
    "8. Generate a random sample of size 1000 from a Poisson distribution with mean 5 and calculate the sample mean and variance."
   ]
  },
  {
   "cell_type": "code",
   "execution_count": 6,
   "id": "2613d561-b983-43c6-9034-bbd3f08e99ea",
   "metadata": {},
   "outputs": [
    {
     "name": "stdout",
     "output_type": "stream",
     "text": [
      "Sample mean: 4.9830\n",
      "Sample variance: 5.0887\n"
     ]
    }
   ],
   "source": [
    "import numpy as np\n",
    "\n",
    "# Generate random sample of size 1000 from a Poisson distribution with mean 5\n",
    "mean = 5\n",
    "sample_size = 1000\n",
    "sample = np.random.poisson(mean, sample_size)\n",
    "\n",
    "# Calculate the sample mean and variance\n",
    "sample_mean = np.mean(sample)\n",
    "sample_variance = np.var(sample)\n",
    "\n",
    "print(f\"Sample mean: {sample_mean:.4f}\")\n",
    "print(f\"Sample variance: {sample_variance:.4f}\")"
   ]
  },
  {
   "cell_type": "code",
   "execution_count": null,
   "id": "e0dbbef4-256d-46d3-9961-23141a96fcad",
   "metadata": {},
   "outputs": [],
   "source": [
    "9. How mean and variance are related in Binomial distribution and Poisson distribution?"
   ]
  },
  {
   "cell_type": "code",
   "execution_count": null,
   "id": "735d909d-0a75-43bb-b32b-24abfd7befb9",
   "metadata": {},
   "outputs": [],
   "source": [
    "ANS- In the Binomial distribution, the mean is equal to the product of the number of trials (n) and the probability of success (p), \n",
    "that is, mean = np. \n",
    "The variance is equal to the product of np(1-p). \n",
    "So, the variance is related to the mean by the formula var = np(1-p).\n",
    "\n",
    "\n",
    "In the Poisson distribution, the mean and variance are both equal to the rate parameter λ. That is, mean = λ and variance = λ.\n",
    "\n",
    "So, in both the Binomial and Poisson distributions, the mean and variance are related, but the relationship is different. \n",
    "In the Binomial distribution, the variance depends on the probability of success and the number of trials, \n",
    "while in the Poisson distribution, the variance is equal to the mean.\n",
    "\n",
    "When the mean is small in the Binomial distribution, it can be approximated by the Poisson distribution with the same mean. \n",
    "Therefore, the relationship between the mean and variance is the same in both distributions. \n",
    "\n",
    "However, when the mean is large, the Binomial distribution becomes more spread out and the relationship between the mean and variance is \n",
    "different from the Poisson distribution."
   ]
  },
  {
   "cell_type": "code",
   "execution_count": null,
   "id": "755e8a5c-d28d-4225-a282-4fbbfb5526ac",
   "metadata": {},
   "outputs": [],
   "source": [
    "10. In normal distribution with respect to mean position, where does the least frequent data appear?"
   ]
  },
  {
   "cell_type": "code",
   "execution_count": null,
   "id": "740184e4-3b67-4a9e-b639-90cb03289f75",
   "metadata": {},
   "outputs": [],
   "source": [
    "ANS- In a normal distribution, the least frequent data appears in the tails of the distribution, which are the areas farthest away from the mean. \n",
    "This is because the normal distribution is a symmetric distribution, and the probabilities of observing data values at equal distances from the meanare equal.\n",
    "\n",
    "Specifically, for a normal distribution, about 68% of the data falls within one standard deviation of the mean, about 95% of the data falls within two standard deviations of the mean, and about 99.7% of the data falls within three standard deviations of the mean. Therefore, the least frequent data appears beyond three standard deviations from the mean in either direction. The probability of observing data beyond three standard deviations from the mean is less than 0.3%."
   ]
  },
  {
   "cell_type": "code",
   "execution_count": null,
   "id": "4cf7a364-483f-4f51-9b93-3290e10caf00",
   "metadata": {},
   "outputs": [],
   "source": []
  }
 ],
 "metadata": {
  "kernelspec": {
   "display_name": "Python 3 (ipykernel)",
   "language": "python",
   "name": "python3"
  },
  "language_info": {
   "codemirror_mode": {
    "name": "ipython",
    "version": 3
   },
   "file_extension": ".py",
   "mimetype": "text/x-python",
   "name": "python",
   "nbconvert_exporter": "python",
   "pygments_lexer": "ipython3",
   "version": "3.10.8"
  }
 },
 "nbformat": 4,
 "nbformat_minor": 5
}
